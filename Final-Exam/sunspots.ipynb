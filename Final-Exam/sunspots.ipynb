{
 "cells": [
  {
   "cell_type": "code",
   "execution_count": null,
   "metadata": {
    "collapsed": false
   },
   "outputs": [],
   "source": [
    "%matplotlib inline\n",
    "\n",
    "import numpy as np\n",
    "import matplotlib.pyplot as plt\n",
    "\n",
    "file = open(\"ISSN_D_tot.csv\", mode='r');\n",
    "\n",
    "temp = []\n",
    "\n",
    "line = file.readline();\n",
    "while line != '':  \n",
    "    for v in line.split(\",\"):\n",
    "        temp.append(float(v))\n",
    "    \n",
    "arr = np.array(temp)\n",
    "\n",
    "last = len(arr)\n",
    "\n",
    "date_year = arr[last - 5]\n",
    "date_month = arr[last - 4]\n",
    "date_day = arr[last - 3]\n",
    "\n",
    "print(date_year,date_month,date_day)"
   ]
  },
  {
   "cell_type": "code",
   "execution_count": null,
   "metadata": {
    "collapsed": true
   },
   "outputs": [],
   "source": []
  }
 ],
 "metadata": {
  "kernelspec": {
   "display_name": "Python 3",
   "language": "python",
   "name": "python3"
  },
  "language_info": {
   "codemirror_mode": {
    "name": "ipython",
    "version": 3
   },
   "file_extension": ".py",
   "mimetype": "text/x-python",
   "name": "python",
   "nbconvert_exporter": "python",
   "pygments_lexer": "ipython3",
   "version": "3.4.3"
  }
 },
 "nbformat": 4,
 "nbformat_minor": 0
}
